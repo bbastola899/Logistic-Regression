{
 "cells": [
  {
   "cell_type": "code",
   "execution_count": 113,
   "id": "49b206fc-a5ec-4206-8ca4-c71f5e1f1bea",
   "metadata": {},
   "outputs": [
    {
     "data": {
      "image/png": "[encoded data removed]",
      "text/plain": [
       "<Figure size 288x288 with 1 Axes>"
      ]
     },
     "metadata": {
      "needs_background": "light"
     },
     "output_type": "display_data"
    },
    {
     "name": "stdout",
     "output_type": "stream",
     "text": [
      "[[0.69314718]]\n"
     ]
    }
   ],
   "source": [
    "import numpy as np \n",
    "import matplotlib.pyplot as plt\n",
    "\n",
    "def draw(x1, x2):\n",
    "    ln = plt.plot(x1, x2)\n",
    "    \n",
    "def sigmoid(score):\n",
    "    return 1/(1 + np.exp(-score))\n",
    "    \n",
    "def calculate_error(line_parameters, points, y):\n",
    "    m = points.shape[0]\n",
    "    p = sigmoid(points*line_parameters)\n",
    "    cross_entropy = -(1/m)*(np.log(p).T * y + np.log(1-p).T * (1-y))\n",
    "    \n",
    "    return cross_entropy\n",
    "\n",
    "def gradient_descent(line_parameters, points, y, alpha):\n",
    "    m = points.shape[0]\n",
    "\n",
    "    for i in range(500):\n",
    "        p = sigmoid(points*line_parameters)\n",
    "        gradient = (points.T * (p - y))*(alpha/m)\n",
    "        line_parameters = line_parameters - gradient\n",
    "        w1 = line_parameters.item(0)\n",
    "        w2 = line_parameters.item(1)\n",
    "        b = line_parameters.item(2)\n",
    "        \n",
    "        x1 = np.array([ points[:,0].min(), points[:,0].max()])\n",
    "#w1x1 + w2x2 + b = 0\n",
    "\n",
    "        x2 = -b /w2 + x1 * (-w1/w2)\n",
    "    \n",
    "    draw(x1, x2)\n",
    "\n",
    "n_pts = 10\n",
    "\n",
    "np.random.seed(0)\n",
    "\n",
    "bias = np.ones(n_pts)\n",
    "\n",
    "random_x1_values = np.random.normal(10, 2, n_pts)\n",
    "random_x2_values = np.random.normal(12,2,n_pts)\n",
    "top_region = np.array([random_x1_values, random_x2_values, bias]).T\n",
    "bottom_region = np.array([np.random.normal(4,2, n_pts), np.random.normal(6,2, n_pts), bias]).T\n",
    "all_points = np.vstack((top_region, bottom_region))\n",
    "\n",
    "line_parameters = np.matrix([np.zeros(3)]).T\n",
    "#x1 = np.array([ bottom_region[:,0].min(), top_region[:,0].max()])\n",
    "#w1x1 + w2x2 + b = 0\n",
    "\n",
    "#x2 = -b /w2 + x1 * (-w1/w2)\n",
    "\n",
    "\n",
    "linear_combination = all_points * line_parameters\n",
    "probabilities = sigmoid(linear_combination)\n",
    "\n",
    "y = np.array([np.zeros(n_pts), np.ones(n_pts)]).reshape(n_pts*2, 1)\n",
    "\n",
    "\n",
    "\n",
    "_, ax = plt.subplots(figsize=(4,4))\n",
    "ax.scatter(top_region[:,0], top_region[:, 1], color='r')\n",
    "ax.scatter(bottom_region[:,0], bottom_region[:, 1], color='b')\n",
    "gradient_descent(line_parameters, all_points, y, 0.06)\n",
    "plt.show()\n",
    "\n",
    "print(calculate_error(line_parameters, all_points, y))\n",
    "\n"
   ]
  },
  {
   "cell_type": "code",
   "execution_count": null,
   "id": "ca08c3f7-4e08-4585-b6ea-f9637eee7037",
   "metadata": {},
   "outputs": [],
   "source": []
  }
 ],
 "metadata": {
  "kernelspec": {
   "display_name": "Python 3 (ipykernel)",
   "language": "python",
   "name": "python3"
  },
  "language_info": {
   "codemirror_mode": {
    "name": "ipython",
    "version": 3
   },
   "file_extension": ".py",
   "mimetype": "text/x-python",
   "name": "python",
   "nbconvert_exporter": "python",
   "pygments_lexer": "ipython3",
   "version": "3.9.7"
  }
 },
 "nbformat": 4,
 "nbformat_minor": 5
}
